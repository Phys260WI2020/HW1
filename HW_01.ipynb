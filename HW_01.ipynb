{
 "cells": [
  {
   "cell_type": "markdown",
   "metadata": {},
   "source": [
    "# Prelude: Why use computer programming in Physics?  \n",
    "-------------------\n",
    "\n",
    "Physics is the quest to explain and understand natural phenomena with simple elegant models.   Classical mechanics is contained in Newtons three laws and electromagnetism, the subject of this course, is contained in Maxwell's four equations: \n",
    "         $$\\nabla \\cdot \\vec B = 0 $$\n",
    "         $$\\nabla \\cdot \\vec E = -\\frac {\\rho} {\\epsilon_0} $$\n",
    "         $$\\nabla \\times \\vec B = \\mu_0 \\vec J + \\mu_0 \\epsilon_0 \\frac {d\\vec E}{dt}$$\n",
    "         $$\\nabla \\times \\vec E = -\\frac {d\\vec B}{dt}$$\n",
    "\n",
    "\n",
    "\n",
    "The fact that these laws can explain phenomena as diverse as rainbows, magnets, and plasmas is one of the most stunning intellectual achievements of humankind.  However, the simplicity and elegance of these equations masks the  richness and complexity of the phenomena they can describe.   Computation allows us to take these laws and make detailed predictions about complicated systems.   These computations help us build intuition about our physical laws, allow us to test our theory by comparing to measurements with observations, and enable us to make predictions.  Computation is a crucial tool needed to fully realize the power of our fundamental physical laws as a description of nature in all its complexity. \n",
    "\n",
    "Even just a few years, ago mathematics in the form of pencil and paper calculations was the only tool available to students at this level.  This meant that courses like Physics 260 were restricted to very simple, idealized physical systems. Now, nearly every working physicist uses a computer on a daily basis to solve research problems that would otherwise be difficult if not impossible.  Research groups use Jupyter notebooks very similar to this one to perform original research, collaborate, and share methods. The incorporation of numerical methods into the curriculum offers several advantages for your learning: it allows you to better understand physics through visualization, and it lets you easily solve problems that are hard or perhaps can't be done on paper.\n",
    "\n",
    "There is even a jupyter notebook tutorial for the analysis that detected gravitational waves!!! (see https://github.com/losc-tutorial/LOSC_Event_tutorial/blob/master/index.ipynb)\n",
    "\n",
    "Beyond these narrow benefits, understanding how to use computation to solve problems will prepare you for a variety of careers including Physics, Engineering, Finance, Data Science, or any number of other fields. The python programming language in particular is extremely powerful and is widely used across numerous areas of study both inside and outside academia.\n"
   ]
  },
  {
   "cell_type": "markdown",
   "metadata": {},
   "source": [
    "# Physics 260 Computational Assignment #1\n",
    "-------------------\n",
    "The **learning goals** for this assignment are: \n",
    "1.  Gain familiarity with jupyter notebooks and with the numpy and matplotlib libraries \n",
    "2.  Calculate and visualize the field distribution of an electric dipole by using the superposition principle. \n",
    "\n",
    "If you are new to python programming, get an early start and come see us if you need any extra help.\n",
    "\n",
    "You will use this notebook for Computer HW 1, and this will be submitted through GitHub Classroom. \n",
    "\n",
    "## Organization of this notebook:\n",
    "**This notebook is a primer** on using Python, the Jupyter Notebook, and to numerically calculate electrostatic fields.   The notebook is divided into six sections: \n",
    "1. An overview of the iPython framework, \n",
    "2. A review of Coulomb's law, \n",
    "3. A review of several key libraries in Python, \n",
    "4. An example of making 1 dimensional plots of the magnitude of the electrostatic field, \n",
    "5. An example of making vector plots of the electrostatic field, and \n",
    "6. An exercise where you will apply the techniques demonstrated in the examples to visualize and understand the field of an electric dipole.  \n",
    "\n",
    "I strongly encourage you to read the first five sections before attempting the exercise.  Reading and playing with the examples will save you a lot of time.\n",
    "\n",
    "You will put code or text into the boxes below, commit and push your notebook to GitHub to be graded.  Each part has a number of points assigned.  The first question is designed to give you credit for getting everything installed and running.\n",
    "\n",
    "#### [Part 1. 10 points] Enter your name in this cell:\n",
    "\n",
    "\n",
    "\n",
    "\n"
   ]
  },
  {
   "cell_type": "markdown",
   "metadata": {},
   "source": [
    "## What is a Jupyter Notebook?\n",
    "\n",
    "A jupyter notebook is comprised of a server that runs Python in the background (typically this a process on your computer, but it can be remote on a different computer) and interacts through a webpage.  The interactive webpage stores text, code, and output in one place allowing for very well documented and well organized code and results.  \n",
    "\n",
    "\n",
    "The Python kernel running in the background is very efficient and can be used to solve true cutting edge problems in Science, Engineering, Business, or any other field you can imagine.  Jupyter notebooks are increasing in popularity across research and industry.  For example: (1) jupyter notebooks are used for much of the analysis in astrophysics experiments, (2) major hedge funds and tech start-ups use these for code development.  The jupyter notebook is a teaching tool, a wonderful framework for accessing Python, and a state of the art computer language with extensive libraries for visualization, data analysis, and many other tasks.\n",
    "\n",
    "The web interface provides boxes for text (called 'markdown' in the pulldown menu above) and boxes for code (called 'code' in the same menu).  You can use the Insert tab to add more boxes to a notebook as you see fit.  This allows you to write descriptions of the code in the same notebook as you write the computer code.  This leads to very understandable code that is fully documented.  For example you can write a description of the problem you are solving and methods you will use before you write the code.   This code can then be executed within the confines of the notebook with the results being automatically placed into the notebook.  This results in a living document that can evolve as you solve a problem. \n",
    "\n",
    "### running your code:  \n",
    "There are several possible ways to execute the code in a notebook.  The recommended way is to press `shift` and `return`.  You can also use the \"play\" button above to execute the code window that has the cursor in it, or within the \"Cell\" pulldown menu you can select; \"Run All,\" \"Run Above,\" or \"Run Below.\"  Once you get to the portion of this notebook with code blocks (see below) I recommend using the \"Restart & Run All\" option from the Kernel drop down to make sure your code successfully runs from top to bottom. \n",
    "\n",
    "#### [Part 2. 10 points] Go through the following two examples and execute the code.\n"
   ]
  },
  {
   "cell_type": "markdown",
   "metadata": {},
   "source": [
    "## Review of Coulomb's Law:\n",
    "Coulomb's law gives the force on a point charge $q$ from a second charge $Q$:\n",
    "$$\\vec F = \\frac 1 {4\\pi\\epsilon_0} \\frac {qQ}{{\\mathscr r}^2} \\hat {\\mathscr r}. $$\n",
    "Here $\\vec {\\mathscr r} = \\vec r_q - \\vec r_Q$.  This is a vector which points to the charge we are considering the force as acting on.  Thus if both charges have the same sign we end up with a repulsive force while if they have opposite charges the force becomes attractive.\n",
    "\n",
    "\n",
    "The electric field is introduced by dividing both sides of coulomb's law by $q$.  This results in $$\\vec E  := \\frac {\\vec F} q = \\frac 1 {4\\pi\\epsilon_0} \\frac {Q}{{\\mathscr r}^2} \\hat {\\mathscr r} $$ \n",
    "Here $\\vec {\\mathscr r} = \\vec r - \\vec r_Q$ where $r$ is the point in space at which we evaluate the field. This is a vector field.   That is, at each point in space we have a vector representing the magnitude and direction of the electric field at that point.\n",
    "\n",
    "### The superposition principle:\n",
    "\n",
    "Force is a vector.  Therefore, if you have two forces $\\vec F_1$ and $\\vec F_2$ acting on one body the total force is just the vector sum: $\\vec F_{tot}  = \\vec F_1 + \\vec F_2$.  If $F_1$ and $F_2$ arise from Coulomb's law (e.g., from two charges at different locations) that are acting on a charge $q$ we can divide both sides of this equation by $q$ to arrive at $\\vec E_{tot} = \\vec E_1 + \\vec E_2$.  This is the superposition principle.  We will use this to calculate the field from two point charges.\n",
    "\n"
   ]
  },
  {
   "cell_type": "markdown",
   "metadata": {},
   "source": [
    "## Libraries in Python\n",
    "Python is an interpretive language.  Its power lies in the fact that many people have worked tirelessly to create a wide variety of packages that enhance its abilities to accomplish specific tasks.  For this class we will use numpy (a library for numerical and scientific computing) and matplotlib (a mathematical visualization library).  Occasionally we will use other packages.  When we do this I will let you know what to do. \n",
    "\n",
    "**To use these libraries** we must import them as we do in the following code block.   You should copy this code block for other exercises in class and add to it as needed.  Note that we are importing numpy as np and pyplot as plt, essentially renaming numpy and pyplot in our code.  Pyplot is the interface we will use to matplotlib tools.   This has been adopted as the standard practice and should be used to facilitate easier reading and debugging of code.  You'll see how to do this in the examples below."
   ]
  },
  {
   "cell_type": "code",
   "execution_count": null,
   "metadata": {},
   "outputs": [],
   "source": [
    "import numpy as np                          # numpy is a library, \"numerical python\", that inclues most of the \n",
    "                                                # numerical functions that you will need in the assignments\n",
    "\n",
    "import matplotlib.pyplot as plt             # this is the mathematical plotting library we use to plot\n",
    "\n",
    "%matplotlib inline                        \n",
    "                                                # The \"%\" indicates a magic function in python, which are built-in \n",
    "                                                # commands.  This sets matplotlib to plot inline in the notebook, \n",
    "                                                # as opposed to popping up a new window.  Turn this off for animations.\n",
    "                                                \n",
    "                                                # More on magic commands: \n",
    "                                                # https://ipython.readthedocs.io/en/stable/interactive/magics.html\n",
    "\n",
    "from mpl_toolkits.mplot3d import Axes3D   # this is a special library to plot in 3d we are using today"
   ]
  },
  {
   "cell_type": "markdown",
   "metadata": {},
   "source": [
    "Documentation on the functions in these libraries can most easily be found using a google search which will also uncover many relevant examples.  \n",
    "\n",
    "The reference guide to numpy can be found <a href='http://docs.scipy.org/doc/numpy/reference/index.html'>here</a>.  The mathematical functions (documented <a href='http://docs.scipy.org/doc/numpy/reference/routines.math.html'>here</a>) are especially important.\n",
    "\n",
    "The documentation for pyplot can be found <a href='http://matplotlib.org/index.html'>here</a>. I find the gallery page to be especially useful in figuring out what this package can do. \n",
    "\n",
    "There are two high level concepts you need to know about these packages:  (1) they work with arrays of numbers, and (2) we invoke the functions in the package with statements of the form: np.function(arguments).  Arrays are just a lists of numbers.  The lists can be arranged into any number of dimensions (1, 2, and 3 are most relevant for this class).  The advantages of working with arrays include: that your computer can apply operations to the arrays in parallel leading to vast speedups in your code; and that you can represent an entire grid of points say the $x$ position with a single variable.  Example 1 will clarify how arrays work.\n",
    "\n",
    "But, let's first **check our installation**:"
   ]
  },
  {
   "cell_type": "code",
   "execution_count": null,
   "metadata": {},
   "outputs": [],
   "source": [
    "print('numpy:', np.__version__)\n",
    "\n",
    "import matplotlib \n",
    "#  Note - we do this import just before it is used as opposed to at the top cell with other imports because it is\n",
    "#    only used to check for versions.  Grouping the imports up top is useful so we can easily see what and how to \n",
    "#    use libraries.  Doing \"import matplotlib\" is the same as doing \"import matplotlib as matplotlib\".   We have\n",
    "#    not shortened the namespace of the library as we have with numpy, e.g. \"import numpy as np\".\n",
    "\n",
    "print('matplotlib:', matplotlib.__version__) "
   ]
  },
  {
   "cell_type": "markdown",
   "metadata": {},
   "source": [
    "## Example 1:   Plot the magnitude of the Electric field along the X-axis from -1 to 1 meter for a one Coulomb point charge placed at the origin. \n",
    "\n",
    "First we need to grid up the x axis.  With numpy this is very easy:"
   ]
  },
  {
   "cell_type": "code",
   "execution_count": null,
   "metadata": {},
   "outputs": [],
   "source": [
    "x = np.arange(-1,1,.0052)  ## make an array that goes from -1 to 1 with steps of 0.0051"
   ]
  },
  {
   "cell_type": "markdown",
   "metadata": {},
   "source": [
    "We can check the size and shape of the array with the following commands.  While we don't need to do this to solve the problem, I want to reinforce that x represents more than one number and show you a few tricks for checking the properties of arrays that are very useful in debugging code."
   ]
  },
  {
   "cell_type": "code",
   "execution_count": null,
   "metadata": {},
   "outputs": [],
   "source": [
    "print(\"number of elements of x: \", np.size(x))\n",
    "print(\"shape of x: \", np.shape(x), \"since x is a one dimensional array this is nearly the same as the number of elements\")\n",
    "print(\"closest point to the origin:\", np.min(np.abs(x)))\n",
    "#print (x)   # this line and the next are commented out with a \"hash\" or #, \n",
    "                    # but you can remove the leading hash mark in front of the \"print\" to see the elements of x"
   ]
  },
  {
   "cell_type": "markdown",
   "metadata": {},
   "source": [
    "Now that we have an array representing x lets calculate the magnitude of the electric field using Coulomb's law (the second equation above).  Since we are on the x axis (e.g., $y=z=0$) and the charge is located at the origin, Coulombs law reduces to: $$\\vec E_{on x axis}   = \\frac 1 {4\\pi\\epsilon_0} \\frac {Q}{{x}^2} \\hat {x}.  $$    Since $\\vec E$ always points along the x-axis the magnitude is just: $$| E_{on x axis}|   = \\frac 1 {4\\pi\\epsilon_0} \\frac {Q}{{x}^2}.$$"
   ]
  },
  {
   "cell_type": "markdown",
   "metadata": {},
   "source": [
    "Below we first **set our constants**, $\\epsilon_0$ and $k$:"
   ]
  },
  {
   "cell_type": "code",
   "execution_count": null,
   "metadata": {},
   "outputs": [],
   "source": [
    "epsilon_0 = 8.85e-12  ## in SI units\n",
    "k = 1 / (4 * np.pi * epsilon_0)   ## coulomb's constant"
   ]
  },
  {
   "cell_type": "markdown",
   "metadata": {},
   "source": [
    "Next, we **define a \"function\"** to calculate the magnitude of the electric field of any point charge Q at a distance x from charge Q.  A good practice for function definitions include a docstring (string for documentation) that describes the function.  See more on functions in python here: https://www.tutorialspoint.com/python/python_functions.htm"
   ]
  },
  {
   "cell_type": "code",
   "execution_count": null,
   "metadata": {},
   "outputs": [],
   "source": [
    "def electric_field(Q, x) :\n",
    "    '''Calculate and return the magnitude of an electric field of a point charge Q, \n",
    "    at a distance x from the charge'''\n",
    "    \n",
    "    magnitude_E = k * Q / x**2  ## Two asterisks \"**\" means to the power  \n",
    "    \n",
    "    return magnitude_E"
   ]
  },
  {
   "cell_type": "markdown",
   "metadata": {},
   "source": [
    "**Insert a new cell** below, and try running `help(electric_field)`.  You will see internal documentation, determined by your docstring, for the function (or \"method\") that you defined.  There is internal documentation for all python objects. \n",
    "\n",
    "#### [2 points]"
   ]
  },
  {
   "cell_type": "markdown",
   "metadata": {},
   "source": [
    "**Test the function**: Keeping everything in SI units, let's now test our function with test values for Q and x.  Here, we will have the notebook print what the magnitude of the electric field is for a charge $Q=1$C, at a distance of 1 meter,"
   ]
  },
  {
   "cell_type": "code",
   "execution_count": null,
   "metadata": {},
   "outputs": [],
   "source": [
    "Q_test = 1 # Coulombs\n",
    "x_test = 1 # meters \n",
    "\n",
    "print( electric_field(Q_test, x_test) )  # This is in N/C"
   ]
  },
  {
   "cell_type": "markdown",
   "metadata": {},
   "source": [
    "In the cell below, we have the notebook displaying the output of the electric_field() function, without the print statement.  What is the difference? "
   ]
  },
  {
   "cell_type": "code",
   "execution_count": null,
   "metadata": {},
   "outputs": [],
   "source": [
    "electric_field(Q_test, x_test)"
   ]
  },
  {
   "cell_type": "markdown",
   "metadata": {},
   "source": [
    "You'll notice that the latter has an \"Out[]\" for cell output.  The print statement merely prints information to the screen, but the function electric_field returns a value, which you see as output.  Another way to think about this is that you can't add a number to `print( electric_field(Q_test, x_test) )`.  But, you **can** add a number to `electric_field(Q_test, x_test)`.  Try both below, add a markdown answer for what you see in the one that gives an error message, and leave the working option in the code cell below."
   ]
  },
  {
   "cell_type": "code",
   "execution_count": null,
   "metadata": {},
   "outputs": [],
   "source": [
    "# Test out difference between print(function) and function"
   ]
  },
  {
   "cell_type": "markdown",
   "metadata": {},
   "source": [
    "#### [2 points] Description of the one that gave an error message: < insert answer here >"
   ]
  },
  {
   "cell_type": "markdown",
   "metadata": {},
   "source": [
    "**Plot your function**: At this point we can calculate the magnitude of $E$ at any distance x, such as for the numpy array we generated.  Now we just have to visualize that relationship.  With matplotlib this is easy, but we have many choices.   Making a good plot is an art form.  Always remember to think through what question you are trying to answer and what information you want to convey as you make plots.  I often spend an hour or more adjusting one plot to meet these goals.  You should always add titles and labeled axes (with units) and be very careful in choosing how to display the data. We'll start by trying out a very simple linear plot of our Electric field."
   ]
  },
  {
   "cell_type": "code",
   "execution_count": null,
   "metadata": {},
   "outputs": [],
   "source": [
    "plt.plot(x,electric_field(Q_test,x))\n",
    "plt.title(\"electric field along the x-axis\")\n",
    "plt.xlabel(\"x position [m]\")\n",
    "plt.ylabel(\"mag(E) [N/C]\")"
   ]
  },
  {
   "cell_type": "markdown",
   "metadata": {},
   "source": [
    "**Improve your plot**: This plot is entirely correct, but only conveys that the field is singular near the center and falls off rapidly as you move away from the charge. We can use a logarithmic y axis to convey more information about the shape of the function."
   ]
  },
  {
   "cell_type": "code",
   "execution_count": null,
   "metadata": {},
   "outputs": [],
   "source": [
    "plt.semilogy(x,electric_field(Q_test, x))\n",
    "plt.title(\"electric field along the x-axis\")\n",
    "plt.xlabel(\"x position [m]\")\n",
    "plt.ylabel(\"mag(E) [N/C]\")\n",
    "plt.show() # What is the difference between this cell output and the previous one when we include \n",
    "                #  plt.show() as the final executable line in the cell?"
   ]
  },
  {
   "cell_type": "markdown",
   "metadata": {},
   "source": [
    "This plot does a good job of showing how the field falls off and captures that the field strength varies by more than 7 orders of magnitude as you move from the point of closest approach (0.4 mm giving the x-grid) and one meter.  However, it is not clear from this plot that the scaling between the field strength and the position is simple.  We can make this apparent (in this case) with a log-log plot. Since the log of a negative number is not defined, we take the absolute value of the x array which has the effect of folding over the negative side onto the positive side."
   ]
  },
  {
   "cell_type": "code",
   "execution_count": null,
   "metadata": {},
   "outputs": [],
   "source": [
    "plt.loglog(np.abs(x),electric_field(Q_test, x))\n",
    "plt.title(\"electric field along the x-axis\")\n",
    "plt.xlabel(\"|x| position [m]\")\n",
    "plt.ylabel(\"mag(E) [N/C]\")\n",
    "plt.show()"
   ]
  },
  {
   "cell_type": "markdown",
   "metadata": {},
   "source": [
    "#### [2 points]\n",
    "Insert a new cell below, use online documentation to figure out how to increase the fontsize of the x and y labels to xx-large.  Use this information to create the more readable plot in the new cell below."
   ]
  },
  {
   "cell_type": "markdown",
   "metadata": {},
   "source": [
    "Straight lines are easy to interpret.   In this case the linear relation can be parameterized as: $$\\log_{10} E = m* \\log_{10} x + b.$$  If you carefully measure with a ruler (or equivalent) you'll find that the slope of this line is close to -2.  (E.g., a $1/x^2$ dependence.)  The value of $b$ can be read off where $log_{10} x = 0$ (e.g., at x=1), so $b \\approx {10}.$  We can check this by plotting this **eyeballed model** over the field we have already calculated.  To do this we need to rearange and invert our linear equation:  $$10^{\\log_{10} E} = 10^{m* \\log_{10} x + b},$$ which is equivalent to: $$ E = 10^{m* \\log_{10} x} 10^ b,$$ and $$ E = 10^{ \\log_{10} x^m} 10^ b,$$ which can be simplified to:$$ E =  x^m 10^ b.$$  Substituting in our estimates for $b$ and $m$ we have $$E_{eye,model} = 10^{10}x^{-2}.$$ \n",
    "\n",
    "Now we want to check this by plotting our fit against the simulated E-field."
   ]
  },
  {
   "cell_type": "code",
   "execution_count": null,
   "metadata": {},
   "outputs": [],
   "source": [
    "E_model = 10**10 * x**-2   ## this is the eyeballed model\n",
    "\n",
    "plt.loglog(np.abs(x),electric_field(Q_test, x))\n",
    "plt.loglog(np.abs(x),E_model)  ## this is the line where we plot the fit as a second line on the plot\n",
    "plt.title(\"electric field along the x-axis\")\n",
    "plt.xlabel(\"|x| position [m]\")\n",
    "plt.ylabel(\"mag(E) [N/C]\")\n",
    "plt.show()"
   ]
  },
  {
   "cell_type": "markdown",
   "metadata": {},
   "source": [
    "Our fit agrees pretty well with the real field, so we have more or less recovered coulomb's law.  We have the scaling right (eg $x^{-2}$), but if we look at what is in coulomb's law we find $k = 0.899 \\times 10^{10}$.  Compare this with our eyeball estimate of k.  It is hard to see this effect on the log plot, but it would be very obvious on the linear plot.  We could improve our eyeball model for $b$ by:\n",
    "\n",
    "1. Adjusting $b$ until the plots lined up as well as we can judge by eye.  This is the process of fitting by hand.  2. Alternatively, we can use a plot to see what the offset is.  \n",
    "\n",
    "#### [2 points]  \n",
    "In a new cell below, plot the ratio between the data and the model.  What is the offset?\n"
   ]
  },
  {
   "cell_type": "code",
   "execution_count": null,
   "metadata": {},
   "outputs": [],
   "source": [
    "# Plot ratio here"
   ]
  },
  {
   "cell_type": "markdown",
   "metadata": {},
   "source": [
    "## Example 2: Display the vector field of a one Coulomb point charge centered at $x = 0.1, y=0.1,z =0.1$"
   ]
  },
  {
   "cell_type": "markdown",
   "metadata": {},
   "source": [
    "For this exercise, don't be afraid about to use trial and error to find fit paramaters that work.  First we must set up arrays that contain the x, y, and z positions of a grid in three dimensions.   This is slightly more complex than what we did in one dimension since we need to represent every possible value of z at each value of x and y.  In other words if we have $N$ values of x, y, and z we will have $N^3$ points in our grid.   Numpy makes this easy with a function called meshgrid that takes a grid for x, grid for y, and grid for z and assembles them into the larger volume grid."
   ]
  },
  {
   "cell_type": "code",
   "execution_count": null,
   "metadata": {},
   "outputs": [],
   "source": [
    "# Create a 3-d coordinate system.  Meshgrid is convenient for creating 3d coordinates (data cube) out of three \n",
    "# one dimensional arrays.\n",
    "\n",
    "## these are the parameters that we are using to set up the grid\n",
    "step = 0.225/1.5\n",
    "Nsteps = 15\n",
    "grid_min = -1\n",
    "grid_max = 1\n",
    "\n",
    "## this is where all the action happens.  Since we have 10 grid point in x,y, and z, this array has 1000 elements.\n",
    "x, y, z = np.meshgrid(np.linspace(grid_min, grid_max, Nsteps),\n",
    "                      np.linspace(grid_min, grid_max, Nsteps),\n",
    "                      np.linspace(grid_min, grid_max, Nsteps), indexing='ij')\n",
    "\n",
    "## Note that the indexing='ij' key word argument (\"kwarg\") to the meshgrid call is important. It makes the order\n",
    "## of the indexing in the resulting 3d arrays 'x,y,z'. Without this kwarg, the indexing is \n",
    "## (for some reason) 'y,x,z'. \n"
   ]
  },
  {
   "cell_type": "markdown",
   "metadata": {},
   "source": [
    "Insert a new cell below to examine the contents of x, y, and z.  For instance, what kind of an object is x? (Hint: `help(x)` can give some insight, as can looking at the output of x, y, and z.).  Discuss what you found in the next markdown cell."
   ]
  },
  {
   "cell_type": "code",
   "execution_count": null,
   "metadata": {},
   "outputs": [],
   "source": [
    "# Examine contents here.  In the next markdown cell, discuss what you found."
   ]
  },
  {
   "cell_type": "markdown",
   "metadata": {},
   "source": [
    "#### [2 points]  \n",
    "\n",
    "x, y, and z are < observations here > "
   ]
  },
  {
   "cell_type": "markdown",
   "metadata": {},
   "source": [
    "Next we need to **calculate the vector components** of the electric field using coulombs law.  Doing this requires calculating the vector between the charge and the position at which we are evaluating the field.  We can do a little vector math to make this easy on ourselves.  From above, Coulomb's law is given by \n",
    "$$\\vec E = \\frac 1 {4\\pi\\epsilon_0} \\frac {Q}{{\\mathscr r}^2} \\hat {\\mathscr r}, $$ but this can be rewritten as:\n",
    "$$\\vec E = \\frac 1 {4\\pi\\epsilon_0} \\frac {Q}{{\\mathscr r}^3} \\vec {\\mathscr r}, $$ which can be expanded to:\n",
    "$$\\vec E = \\frac 1 {4\\pi\\epsilon_0} \\frac {Q}{{\\mathscr r}^3} (\\mathscr x \\hat x + \\mathscr y \\hat y + \\mathscr z \\hat z). $$  Note: the script letters represent seperations between the point at which we are evaluating the field and the location of the charge.  So if the charge is at $x_c, y_c, z_c$ then $\\mathscr x  = x - x_c $, $\\mathscr y  = y - y_c $, $\\mathscr z  = z - z_c $, and $\\mathscr r = \\sqrt{\\mathscr x ^2 + \\mathscr y ^2 + \\mathscr z ^2}$.  We will now numerically evaluate Coulomb's law in this final form."
   ]
  },
  {
   "cell_type": "code",
   "execution_count": null,
   "metadata": {},
   "outputs": [],
   "source": [
    "# set up the position of the charge\n",
    "x_charge = 0.1\n",
    "y_charge = 0.1\n",
    "z_charge = 0.1\n",
    "\n",
    "# calculate the seperation vector between the field position (x,y,z) and the charge position\n",
    "x_sep = x - x_charge   ## NOTES: (1) if you subtract a number from an array it subtracts the number from each element\n",
    "y_sep = y - y_charge   ##        (2) for reference if you difference two equal sized arrays it differences each element \n",
    "z_sep = z - z_charge\n",
    "\n",
    "r_sep = np.sqrt(x_sep**2 + y_sep**2 + z_sep**2)\n",
    "\n",
    "Q = 1 # Coulomb\n",
    "\n",
    "# calculate the three components of the electric field vectors\n",
    "Ex = k*Q* x_sep*r_sep**-3\n",
    "Ey = k*Q* y_sep*r_sep**-3\n",
    "Ez = k*Q* z_sep*r_sep**-3"
   ]
  },
  {
   "cell_type": "markdown",
   "metadata": {},
   "source": [
    "In the next cell, create a 3x3 array, populated with numbers 0 through 8.  Subtract the number 1.5 from this array, and print the output.  Subtract the array from itself and print the output."
   ]
  },
  {
   "cell_type": "code",
   "execution_count": null,
   "metadata": {},
   "outputs": [],
   "source": [
    "#  Test subtracting from an array here"
   ]
  },
  {
   "cell_type": "markdown",
   "metadata": {},
   "source": [
    "#### Visualizing a vector field:\n",
    "Again we have choices.  Plotting the full 3d vector field is appealing, but we have to use care not to get a plot that is overwhelming and difficult to interpret.   We will start with a 3d plot and then move on to 2d plot later on.   Keeping both options in the arsenal is always advisable.\n",
    "\n",
    "To make these plots work we will have to rescale the length of the electric field vectors and excise field points that are too close to the charge.  To do this we need to calculate the magnitude of the electric field and its maximum."
   ]
  },
  {
   "cell_type": "code",
   "execution_count": null,
   "metadata": {},
   "outputs": [],
   "source": [
    "magE = np.sqrt(Ex**2 +Ey**2 +Ez**2)\n",
    "max_magE = np.max(magE)\n",
    "print(max_magE)"
   ]
  },
  {
   "cell_type": "markdown",
   "metadata": {},
   "source": [
    "Pyplot doesn't have an ideal routine for plotting a 3d vector field.  The following online-discovered function \"plot_vec_field\" makes your life easier.  You need not understand how it works beyond what the arguments are:  $x,y,z$ are the positions of the grid points, $u,v,w$ are the field vectors, scale is a parameter that rescales the length of the field vectors, and camera_dist, camera_elev, and camera_azim are parameters that control the vantage point from which the plot is displayed.  We will use this function to visualize our field in the next code block."
   ]
  },
  {
   "cell_type": "code",
   "execution_count": null,
   "metadata": {},
   "outputs": [],
   "source": [
    "def plot_vec_field(x,y,z,u,v,w,scale,camera_dist,camera_elev,camera_azim):\n",
    "    '''Plots a 3-dimensional vector field.  Takes in the grid point positions, field vectors, \n",
    "    and viewing information for the visualization.'''\n",
    "    \n",
    "    length_vec = scale * np.sqrt(u**2. +v**2. + w**2.)\n",
    "    fig = plt.figure()\n",
    "    ax = fig.gca(projection='3d')\n",
    "    \n",
    "    N_vecs = np.size(x)\n",
    "    i = 0\n",
    "    while (i < N_vecs -1.):\n",
    "        ax.quiver(x.flatten()[i], y.flatten()[i], z.flatten()[i], \n",
    "                  u.flatten()[i], v.flatten()[i], w.flatten()[i],                 # data\n",
    "                  length=length_vec.flatten()[i],                      # arrow length\n",
    "                  normalize=True,\n",
    "                  color='Tomato'                    # arrow colour\n",
    "                )\n",
    "        i = i + 1\n",
    "    \n",
    "    ax.set_title('3D Electric Field')             # title\n",
    "    ax.view_init(elev=camera_elev, azim=camera_azim\n",
    "            )              # camera elevation and angle\n",
    "    ax.dist=camera_dist           # camera distance\n",
    "    plt.show()\n",
    "    return(\"vector field successfully plotted\")"
   ]
  },
  {
   "cell_type": "markdown",
   "metadata": {},
   "source": [
    "Here we plot our field.  It is obvious that we have evaluated the field too close to the charge and we have some very large vectors that are overwhelming our plot.  We'll fix that in the next block."
   ]
  },
  {
   "cell_type": "code",
   "execution_count": null,
   "metadata": {},
   "outputs": [],
   "source": [
    "camera_dist = 10.\n",
    "camera_elev = 30.\n",
    "camera_azim = 30.\n",
    "scale = 10./max_magE\n",
    "plot_vec_field(x,y,z,Ex,Ey,Ez,scale,camera_dist,camera_elev,camera_azim)\n"
   ]
  },
  {
   "cell_type": "markdown",
   "metadata": {},
   "source": [
    "We need to excise the points where the field vectors are too large.  Python gives us a very easy way to do so using the \"where\" command.  The where command applies a logical test to every element of the array and returns a list of the index (e.g., position in the array) where the test is true.   We will test for where the magnitude of E is less than some threshold and create a list of field points that are short enough.  Next, when we plot the field we subscript our position and electric field arrayw with this list of points thare are small enough.   You will see that the plot now looks good.  Play around with the camera_dist to zoom in, and the camera_elev and cameara_azim to rotate around the plot. This plot gives you a good idea of what is going on, but it is hard to be quantatative."
   ]
  },
  {
   "cell_type": "code",
   "execution_count": null,
   "metadata": {
    "scrolled": true
   },
   "outputs": [],
   "source": [
    "electric_field_mask = np.where(magE < max_magE *.2 )  # identify the locations where the field is below a threshold\n",
    "camera_dist = 10.\n",
    "camera_elev = 30.\n",
    "camera_azim = 30.\n",
    "scale = 2./max_magE\n",
    "\n",
    "# the [electric_field_mask] means use only the elements of each vector in the list of electric_field_mask points.\n",
    "plot_vec_field(x[electric_field_mask],y[electric_field_mask],z[electric_field_mask],\n",
    "               Ex[electric_field_mask],Ey[electric_field_mask],Ez[electric_field_mask],\n",
    "               scale,camera_dist,camera_elev,camera_azim)"
   ]
  },
  {
   "cell_type": "markdown",
   "metadata": {},
   "source": [
    "##### 2d vector plots\n",
    "we next switch to doing a two dimensional vector plot.  First we need to sub-select a plane from our the dimensional grid.  We do this with indexing.  Our x,y, and z arrays have a three dimensional shape.  We can therefore index each of the dimensions separately.  For example x[0,0,0] gives the value of x for the 0,0,0 indices.   Python lets you select more than one array element at a time using the \":\".  For example x[:,0,0] the row of x where y and z are zero.    (think of a cube).   The next code block selects out a plane at fixed z."
   ]
  },
  {
   "cell_type": "code",
   "execution_count": null,
   "metadata": {},
   "outputs": [],
   "source": [
    "z_index = int(Nsteps/2)\n",
    "print (\"z of current layer: \", z[0,0,z_index])\n",
    "\n",
    "x2d = x[:,:,z_index]  ## here we are playing a trick to extract all the x and y positions at a single value of z\n",
    "y2d = y[:,:,z_index]\n",
    "Ex2d= Ex[:,:,z_index]\n",
    "Ey2d= Ey[:,:,z_index]"
   ]
  },
  {
   "cell_type": "markdown",
   "metadata": {},
   "source": [
    "Now that we have selected a plane we can use the quiver function to plot the vector field.  Quiver is in matplotlib and is documented online."
   ]
  },
  {
   "cell_type": "code",
   "execution_count": null,
   "metadata": {},
   "outputs": [],
   "source": [
    "mag_E2d = np.sqrt(Ex2d**2. +Ey2d**2. )\n",
    "\n",
    "# \"Mask\" to select field points below threshold\n",
    "electric_field_2d_mask = np.where(mag_E2d < np.max(max_magE))\n",
    "\n",
    "\n",
    "Qplot = plt.quiver(x2d[electric_field_2d_mask], y2d[electric_field_2d_mask], \n",
    "                   Ex2d[electric_field_2d_mask], Ey2d[electric_field_2d_mask], \n",
    "                   units='inches',pivot='mid',color='r',\n",
    "                    scale= 5e11)\n",
    "\n",
    "plt.axis('equal')  ## makes the x and y axes have the same scale\n",
    "plt.title('electric field slice parallel to the x-y plane')\n",
    "plt.xlabel('x position [m]')\n",
    "plt.ylabel('y position [m]')\n",
    "plt.show()"
   ]
  },
  {
   "cell_type": "markdown",
   "metadata": {
    "collapsed": true
   },
   "source": [
    "## Your coding assignment starts here:\n",
    "\n",
    "### The electric dipole.\n",
    "A dipole consists of a pair of charges one positive and one negative (with the same charge magnitude) separated by a fixed distance.   Consider a dipole consisting of a Q = -1 C charge located at $x = 0, y = 0, z = 0.5$ and a Q = 1 C charge located at $x = 0, y = 0, z = -0.5$.\n",
    "\n",
    "#### [Part 3, 10 points] make a three dimensional vector plot of this field\n",
    "Full credit if the visualization makes the fields clear.  Please discuss your plot in the space provided.   You will need to adjust the gridding scale, and view angles from what was done above to accomplish this.\n",
    "\n",
    "Hint:  Begin by constructing your grid points and set up the position of charges.  Next, you will need to calculate the separation vector between field positions and the charge positions. Also, recall that the electric field contribution from *each* charge adds, so first calculating the individual contribution will make things easier."
   ]
  },
  {
   "cell_type": "code",
   "execution_count": null,
   "metadata": {},
   "outputs": [],
   "source": [
    "# your code to construct grid points and charge positions goes here"
   ]
  },
  {
   "cell_type": "code",
   "execution_count": null,
   "metadata": {},
   "outputs": [],
   "source": [
    "# your code to calculate the separation vector "
   ]
  },
  {
   "cell_type": "code",
   "execution_count": null,
   "metadata": {},
   "outputs": [],
   "source": [
    "# Your code to get the electric field due to both charges. "
   ]
  },
  {
   "cell_type": "code",
   "execution_count": null,
   "metadata": {},
   "outputs": [],
   "source": [
    "# Your code to \"clean up\" the visualization, by selecting points where the field is below some threshold \n",
    "        # masking points that are above."
   ]
  },
  {
   "cell_type": "markdown",
   "metadata": {},
   "source": [
    "Double click to write your discussion here"
   ]
  },
  {
   "cell_type": "markdown",
   "metadata": {},
   "source": [
    "\n",
    "#### [Part 4, 10 points] make vector plots in 2d along the xy and xz planes. \n",
    "(By symmetry the yz plane is identical to the xz plane)\n",
    "Full credit for a clear set of plots and a discussion comparing this to the plots of the single point charge."
   ]
  },
  {
   "cell_type": "code",
   "execution_count": null,
   "metadata": {},
   "outputs": [],
   "source": [
    "# your code goes here to extract x and y positions at a selected z value"
   ]
  },
  {
   "cell_type": "code",
   "execution_count": null,
   "metadata": {},
   "outputs": [],
   "source": [
    "# your code to plot here"
   ]
  },
  {
   "cell_type": "code",
   "execution_count": null,
   "metadata": {},
   "outputs": [],
   "source": [
    "# your code to plot the xz plane here (hint, pick a y value not at 0) "
   ]
  },
  {
   "cell_type": "markdown",
   "metadata": {},
   "source": [
    "Double click to write your discussion here"
   ]
  },
  {
   "cell_type": "markdown",
   "metadata": {},
   "source": [
    "## This completes your first computer assignment.   \n",
    "\n",
    "### Please make sure you have submitted your completed jupyter notebook through the github classroom."
   ]
  },
  {
   "cell_type": "code",
   "execution_count": null,
   "metadata": {},
   "outputs": [],
   "source": []
  }
 ],
 "metadata": {
  "anaconda-cloud": {},
  "kernelspec": {
   "display_name": "Python 3",
   "language": "python",
   "name": "python3"
  },
  "language_info": {
   "codemirror_mode": {
    "name": "ipython",
    "version": 3
   },
   "file_extension": ".py",
   "mimetype": "text/x-python",
   "name": "python",
   "nbconvert_exporter": "python",
   "pygments_lexer": "ipython3",
   "version": "3.6.5"
  }
 },
 "nbformat": 4,
 "nbformat_minor": 1
}
